{
 "cells": [
  {
   "cell_type": "markdown",
   "id": "2e125ec3",
   "metadata": {},
   "source": [
    "# Välkommen till Python!\n",
    "\n",
    "Hej! Det här är en kurs i Python för dig som har använt Scratch tidigare. \n",
    "Vi kommer att lära oss hur man skriver kod med text istället för att dra block.\n",
    "\n",
    "Varje del innehåller:\n",
    "1. En förklaring av vad vi ska lära oss\n",
    "2. Exempel på kod som du kan köra\n",
    "3. Uppgifter som du kan prova själv\n",
    "\n",
    "Tryck på \"play\" knappen (▶️) vid varje kodblock för att köra koden!"
   ]
  },
  {
   "cell_type": "markdown",
   "id": "cd00d2e5",
   "metadata": {},
   "source": [
    "# Lektion 1: Skriva ut text\n",
    "\n",
    "I Scratch använder vi \"säg\" block för att visa text. I Python använder vi något som heter `print`.\n",
    "`print` är ett kommando som talar om för datorn att den ska visa text på skärmen.\n",
    "\n",
    "Vi skriver texten vi vill visa inom citattecken `\"text här\"` så att datorn vet exakt vad den ska visa."
   ]
  },
  {
   "cell_type": "code",
   "execution_count": 1,
   "id": "c6377f00",
   "metadata": {},
   "outputs": [
    {
     "name": "stdout",
     "output_type": "stream",
     "text": [
      "Hej! Jag är en dator!\n",
      "Jag gillar att programmera!\n",
      "Jag kan räkna: 1 2 3 4 5\n"
     ]
    }
   ],
   "source": [
    "# Här är några exempel på hur vi kan använda print\n",
    "print(\"Hej! Jag är en dator!\")\n",
    "print(\"Jag gillar att programmera!\")\n",
    "\n",
    "# Vi kan skriva ut flera saker på samma rad genom att använda kommatecken\n",
    "print(\"Jag kan räkna:\", 1, 2, 3, 4, 5)\n",
    "\n",
    "# Din tur! Prova att ändra texten ovanför eller skriv en egen print-rad här:"
   ]
  },
  {
   "cell_type": "markdown",
   "id": "1c300953",
   "metadata": {},
   "source": [
    "# Lektion 2: Variabler\n",
    "\n",
    "I Scratch har vi variabler som kan spara information. I Python fungerar det på samma sätt!\n",
    "En variabel är som en låda där vi kan spara saker, till exempel:\n",
    "- Text (kallas \"sträng\" i Python)\n",
    "- Nummer\n",
    "- Sant eller falskt (kallas \"boolean\" i Python)\n",
    "\n",
    "För att skapa en variabel skriver vi:\n",
    "```python\n",
    "variabel_namn = värde\n",
    "```"
   ]
  },
  {
   "cell_type": "code",
   "execution_count": 2,
   "id": "bf515acc",
   "metadata": {},
   "outputs": [
    {
     "name": "stdout",
     "output_type": "stream",
     "text": [
      "Hej, jag heter Python\n",
      "Jag är 9 år gammal\n",
      "Gillar jag programmering? True\n",
      "Nu har jag fyllt 10 år!\n"
     ]
    }
   ],
   "source": [
    "# Här skapar vi några olika variabler\n",
    "mitt_namn = \"Python\"          # Text (sträng)\n",
    "min_ålder = 9                 # Nummer\n",
    "gillar_programmering = True   # Sant (boolean)\n",
    "\n",
    "# Nu använder vi våra variabler\n",
    "print(\"Hej, jag heter\", mitt_namn)\n",
    "print(\"Jag är\", min_ålder, \"år gammal\")\n",
    "print(\"Gillar jag programmering?\", gillar_programmering)\n",
    "\n",
    "# Vi kan också ändra värdet i en variabel\n",
    "min_ålder = 10\n",
    "print(\"Nu har jag fyllt\", min_ålder, \"år!\")\n",
    "\n",
    "# Din tur! Skapa en variabel med ditt namn och din ålder:"
   ]
  },
  {
   "cell_type": "markdown",
   "id": "0d720fcd",
   "metadata": {},
   "source": [
    "# Lektion 3: Fråga användaren (Input)\n",
    "\n",
    "I Scratch använder vi \"fråga och vänta\" för att få svar från användaren. \n",
    "I Python använder vi `input()` för att fråga och vänta på svar.\n",
    "\n",
    "När vi får ett svar från användaren kan vi spara det i en variabel och använda det senare."
   ]
  },
  {
   "cell_type": "code",
   "execution_count": null,
   "id": "562a2b9b",
   "metadata": {},
   "outputs": [],
   "source": [
    "# Här frågar vi användaren om några saker\n",
    "namn = input(\"Vad heter du? \")\n",
    "print(\"Hej\", namn, \"!\")\n",
    "\n",
    "# När vi frågar efter nummer måste vi använda int() för att göra om svaret till ett tal\n",
    "ålder = int(input(\"Hur gammal är du? \"))\n",
    "print(\"Om ett år kommer du vara\", ålder + 1, \"år gammal!\")\n",
    "\n",
    "# Din tur! Fråga användaren om något och använd svaret i en print:"
   ]
  },
  {
   "cell_type": "markdown",
   "id": "31627782",
   "metadata": {},
   "source": [
    "# Lektion 4: Loopar (Upprepa)\n",
    "\n",
    "I Scratch använder vi \"repetera\" block för att göra samma sak flera gånger.\n",
    "I Python använder vi något som kallas \"for loop\" för att upprepa saker.\n",
    "\n",
    "Vi skriver:\n",
    "```python\n",
    "for i in range(antal_gånger):\n",
    "    # Kod som ska upprepas\n",
    "```\n",
    "\n",
    "`i` är en variabel som räknar hur många gånger vi har upprepat koden."
   ]
  },
  {
   "cell_type": "code",
   "execution_count": null,
   "id": "8026ca7d",
   "metadata": {},
   "outputs": [],
   "source": [
    "# Här är en loop som räknar till 5\n",
    "print(\"Nu ska vi räkna till 5:\")\n",
    "for i in range(5):\n",
    "    print(i + 1)  # Vi lägger till 1 eftersom datorn börjar räkna från 0\n",
    "\n",
    "# Vi kan göra roliga mönster med loopar\n",
    "print(\"\\nHär kommer en trappa:\")  # \\n betyder \"ny rad\"\n",
    "for i in range(5):\n",
    "    print(\"*\" * (i + 1))  # * gånger ett nummer ritar ut stjärnor\n",
    "\n",
    "# Din tur! Prova att ändra siffrorna i range() eller gör ett eget mönster:"
   ]
  },
  {
   "cell_type": "markdown",
   "id": "f223ff54",
   "metadata": {},
   "source": [
    "# Bra jobbat!\n",
    "\n",
    "Nu har du lärt dig grunderna i Python:\n",
    "1. Hur man skriver ut text med `print()`\n",
    "2. Hur man använder variabler för att spara information\n",
    "3. Hur man frågar användaren om input med `input()`\n",
    "4. Hur man upprepar saker med loopar\n",
    "\n",
    "Fortsätt experimentera med koden ovan och prova att göra egna program!\n",
    "\n",
    "Tips: Du kan alltid gå tillbaka och köra om kodcellerna genom att klicka på play-knappen (▶️)."
   ]
  }
 ],
 "metadata": {
  "kernelspec": {
   "display_name": "Python 3",
   "language": "python",
   "name": "python3"
  },
  "language_info": {
   "codemirror_mode": {
    "name": "ipython",
    "version": 3
   },
   "file_extension": ".py",
   "mimetype": "text/x-python",
   "name": "python",
   "nbconvert_exporter": "python",
   "pygments_lexer": "ipython3",
   "version": "3.13.5"
  }
 },
 "nbformat": 4,
 "nbformat_minor": 5
}
