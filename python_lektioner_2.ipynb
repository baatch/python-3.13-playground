{
 "cells": [
  {
   "cell_type": "markdown",
   "id": "ae286655",
   "metadata": {},
   "source": [
    "# Fortsättning på Python-äventyret! 🚀\n",
    "\n",
    "Nu när du har lärt dig grunderna i Python från första lektionen, ska vi lära oss några nya roliga saker!\n",
    "\n",
    "I denna lektion kommer vi att lära oss:\n",
    "1. Hur man gör listor med flera saker\n",
    "2. Hur man tar beslut med if-satser\n",
    "3. Hur man gör enkla spel\n",
    "4. Hur man ritar figurer\n",
    "\n",
    "Kom ihåg att du kan köra varje kodblock genom att trycka på play-knappen (▶️)"
   ]
  },
  {
   "cell_type": "markdown",
   "id": "95f73789",
   "metadata": {},
   "source": [
    "# Lektion 5: Listor\n",
    "\n",
    "I Scratch kan vi ha listor med flera saker i. I Python kan vi också göra det!\n",
    "En lista ser ut så här: `[sak1, sak2, sak3]`\n",
    "\n",
    "Vi kan ha alla möjliga saker i en lista:\n",
    "- Nummer\n",
    "- Text\n",
    "- Blandade saker\n",
    "\n",
    "Vi kan också:\n",
    "- Lägga till saker i listan\n",
    "- Ta bort saker från listan\n",
    "- Kolla hur många saker som finns i listan"
   ]
  },
  {
   "cell_type": "code",
   "execution_count": null,
   "id": "d657361f",
   "metadata": {},
   "outputs": [],
   "source": [
    "# Här skapar vi en lista med frukter\n",
    "frukter = [\"äpple\", \"banan\", \"apelsin\"]\n",
    "print(\"Mina frukter:\", frukter)\n",
    "\n",
    "# Vi kan lägga till en frukt\n",
    "frukter.append(\"päron\")\n",
    "print(\"Nu har jag lagt till en frukt:\", frukter)\n",
    "\n",
    "# Vi kan ta reda på hur många frukter vi har\n",
    "antal_frukter = len(frukter)\n",
    "print(\"Jag har\", antal_frukter, \"frukter\")\n",
    "\n",
    "# Vi kan kolla vilken frukt som ligger på en viss plats\n",
    "# OBS: I Python börjar vi räkna från 0!\n",
    "print(\"Första frukten är:\", frukter[0])\n",
    "print(\"Andra frukten är:\", frukter[1])\n",
    "\n",
    "# Din tur! Skapa en egen lista med dina favoritdjur:"
   ]
  },
  {
   "cell_type": "markdown",
   "id": "e11fa8be",
   "metadata": {},
   "source": [
    "# Lektion 6: If-satser (Om-Då)\n",
    "\n",
    "I Scratch använder vi \"Om-Då\" block för att få saker att hända bara ibland.\n",
    "I Python använder vi if-satser för samma sak.\n",
    "\n",
    "Vi kan jämföra saker med:\n",
    "- `==` betyder \"är lika med\"\n",
    "- `>` betyder \"större än\"\n",
    "- `<` betyder \"mindre än\"\n",
    "- `>=` betyder \"större än eller lika med\"\n",
    "- `<=` betyder \"mindre än eller lika med\"\n",
    "\n",
    "Vi kan också kombinera flera villkor med:\n",
    "- `and` betyder \"och\"\n",
    "- `or` betyder \"eller\""
   ]
  },
  {
   "cell_type": "code",
   "execution_count": null,
   "id": "958e2361",
   "metadata": {},
   "outputs": [],
   "source": [
    "# Ett enkelt spel med if-satser\n",
    "print(\"Välkommen till gissa talet!\")\n",
    "hemligt_tal = 7\n",
    "\n",
    "gissning = int(input(\"Gissa ett tal mellan 1 och 10: \"))\n",
    "\n",
    "if gissning == hemligt_tal:\n",
    "    print(\"Du gissade rätt! Bra gjort!\")\n",
    "elif gissning < hemligt_tal:\n",
    "    print(\"För lågt! Prova ett högre tal.\")\n",
    "else:\n",
    "    print(\"För högt! Prova ett lägre tal.\")\n",
    "\n",
    "# Vi kan också kolla flera saker\n",
    "ålder = int(input(\"\\nHur gammal är du? \"))\n",
    "gillar_glass = input(\"Gillar du glass? (ja/nej) \")\n",
    "\n",
    "if ålder < 12 and gillar_glass == \"ja\":\n",
    "    print(\"Du är ung och gillar glass - perfekt kombination!\")\n",
    "elif ålder >= 12 and gillar_glass == \"ja\":\n",
    "    print(\"Du är äldre men gillar fortfarande glass - bra smak!\")\n",
    "else:\n",
    "    print(\"Det är okej att inte gilla glass också!\")"
   ]
  },
  {
   "cell_type": "markdown",
   "id": "6399520c",
   "metadata": {},
   "source": [
    "# Lektion 7: Rita med Turtle 🐢\n",
    "\n",
    "I Scratch kan vi rita med vår figur. I Python har vi något som heter \"Turtle\" (sköldpadda) som kan rita åt oss!\n",
    "\n",
    "Sköldpaddan kan:\n",
    "- Gå framåt och bakåt\n",
    "- Svänga höger och vänster\n",
    "- Lyfta pennan (sluta rita) och sätta ner den igen\n",
    "- Ändra färg\n",
    "- Ändra tjocklek på strecken\n",
    "\n",
    "Vi måste först importera turtle-biblioteket för att kunna använda det."
   ]
  },
  {
   "cell_type": "code",
   "execution_count": null,
   "id": "e7fd1bf0",
   "metadata": {},
   "outputs": [],
   "source": [
    "import turtle\n",
    "\n",
    "# Skapa ett fönster och en sköldpadda\n",
    "t = turtle.Turtle()\n",
    "t.shape(\"turtle\")  # Gör så att pilen ser ut som en sköldpadda\n",
    "\n",
    "# Rita en fyrkant\n",
    "t.color(\"blue\")  # Ändra färg till blå\n",
    "t.pensize(3)     # Gör pennan tjockare\n",
    "\n",
    "for i in range(4):\n",
    "    t.forward(100)  # Gå framåt 100 steg\n",
    "    t.right(90)     # Sväng 90 grader höger\n",
    "\n",
    "# Flytta till en ny plats utan att rita\n",
    "t.penup()        # Lyft pennan\n",
    "t.goto(-50, 50)  # Gå till en ny position\n",
    "t.pendown()      # Sätt ner pennan igen\n",
    "\n",
    "# Rita en triangel\n",
    "t.color(\"red\")\n",
    "for i in range(3):\n",
    "    t.forward(80)\n",
    "    t.left(120)   # Sväng 120 grader vänster\n",
    "\n",
    "# Din tur! Prova att rita något eget:\n",
    "# t.color(\"green\")  # Välj en färg\n",
    "# Skriv din kod här..."
   ]
  },
  {
   "cell_type": "markdown",
   "id": "4b492102",
   "metadata": {},
   "source": [
    "# Mini-projekt: Gör ditt eget spel! 🎮\n",
    "\n",
    "Nu har du lärt dig:\n",
    "1. Hur man använder listor för att spara flera saker\n",
    "2. Hur man använder if-satser för att ta beslut\n",
    "3. Hur man ritar figurer med Turtle\n",
    "\n",
    "Här är en idé på ett projekt du kan prova:\n",
    "- Gör ett frågesport-spel\n",
    "- Spara frågorna och svaren i listor\n",
    "- Använd if-satser för att kolla om svaren är rätta\n",
    "- Rita något roligt med Turtle när spelaren vinner!\n",
    "\n",
    "På nästa rad finns det en tom kodcell där du kan börja skapa ditt spel.\n",
    "Kom ihåg att du kan använda alla saker du har lärt dig!"
   ]
  },
  {
   "cell_type": "code",
   "execution_count": null,
   "id": "09a0cf31",
   "metadata": {},
   "outputs": [],
   "source": [
    "# Här kan du skriva din kod för spelet!\n",
    "# Till exempel:\n",
    "\n",
    "frågor = [\"Vad är 5 + 5?\", \"Vilken färg är bananer?\", \"Hur många dagar har en vecka?\"]\n",
    "svar = [\"10\", \"gul\", \"7\"]\n",
    "\n",
    "# Fortsätt här med din egen kod..."
   ]
  }
 ],
 "metadata": {
  "language_info": {
   "name": "python"
  }
 },
 "nbformat": 4,
 "nbformat_minor": 5
}
